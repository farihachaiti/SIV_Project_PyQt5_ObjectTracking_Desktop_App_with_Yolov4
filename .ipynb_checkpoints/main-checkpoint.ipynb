{
 "cells": [
  {
   "cell_type": "code",
   "execution_count": null,
   "id": "ba97878e",
   "metadata": {
    "scrolled": false
   },
   "outputs": [],
   "source": [
    "import sys\n",
    "import subprocess\n",
    "from PyQt5.QtCore import *\n",
    "from PyQt5.QtGui import *\n",
    "from PyQt5.QtWidgets import *\n",
    "from PyQt5.QtMultimediaWidgets import *\n",
    "from PyQt5.QtMultimediaWidgets import QVideoWidget\n",
    "import TrackerProcess\n",
    "from VideoPlayer import VideoPlayer\n",
    "\n",
    "\n",
    "\n",
    "\n",
    "class window(QWidget):\n",
    "    def __init__(self, parent = None):\n",
    "        super(window, self).__init__(parent)\n",
    "        self.resize(200,50)\n",
    "        self.setWindowTitle(\"PyQt5\")\n",
    "        self.label = QLabel(self)\n",
    "        self.label.setText(\"Hello World\")\n",
    "        font = QFont()\n",
    "        font.setFamily(\"Arial\")\n",
    "        font.setPointSize(16)\n",
    "        self.label.setFont(font)\n",
    "        self.label.move(50,20)\n",
    "        \n",
    "        \n",
    "def main():\n",
    "    app = QApplication(sys.argv)\n",
    "    \n",
    "    # Convert darknet weights to tensorflow model\n",
    "    cmd1 = \"python save_model.py --model yolov4\" \n",
    "    # Run yolov4 deep sort object tracker on video\n",
    "    cmd2 = \"python object_tracker.py --video ./data/video/project_video_2.mp4 --output ./outputs/output.avi --model yolov4 --dont_show --count\"\n",
    "    #0subprocess.Popen(cmd1, shell=True)\n",
    "    #0subprocess.Popen(cmd2, shell=True)\n",
    "    #VideoPlayer().main()\n",
    "    #VideoPlayer().playVideoFile(\"./outputs/001output.avi\")\n",
    "    TrackerProcess.sendCommands(cmd1,cmd2)\n",
    "    TrackerProcess.main()\n",
    "    #main_design.sendFile(\"./outputs/output.avi\")\n",
    "    #main_design.main()\n",
    "    # Run yolov4 deep sort object tracker on webcam (set video flag to 0)\n",
    "    #python object_tracker.py --video 0 --output ./outputs/webcam.avi --model yolov4\n",
    "    \n",
    "    #ex = window()\n",
    "    #ex.show()\n",
    "    app.exec_()\n",
    "    \n",
    "if __name__ == '__main__':\n",
    "    main()"
   ]
  }
 ],
 "metadata": {
  "kernelspec": {
   "display_name": "Python 3 (ipykernel)",
   "language": "python",
   "name": "python3"
  },
  "language_info": {
   "codemirror_mode": {
    "name": "ipython",
    "version": 3
   },
   "file_extension": ".py",
   "mimetype": "text/x-python",
   "name": "python",
   "nbconvert_exporter": "python",
   "pygments_lexer": "ipython3",
   "version": "3.10.8"
  }
 },
 "nbformat": 4,
 "nbformat_minor": 5
}
